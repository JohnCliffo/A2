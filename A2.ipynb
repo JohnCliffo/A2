{
 "cells": [
  {
   "cell_type": "markdown",
   "metadata": {},
   "source": [
    "# Assignment A2 [40 marks]\n",
    "\n"
   ]
  },
  {
   "cell_type": "markdown",
   "metadata": {},
   "source": [
    "The assignment consists of 3 exercises. Each exercise may contain coding and/or discussion questions.\n",
    "- Type your **code** in the **code cells** provided below each question.\n",
    "- For **discussion** questions, use the **Markdown cells** provided below each question, indicated by 📝. Double-click these cells to edit them, and run them to display your Markdown-formatted text. Please refer to the Week 1 tutorial notebook for Markdown syntax.\n",
    "\n",
    "---"
   ]
  },
  {
   "cell_type": "markdown",
   "metadata": {},
   "source": [
    "# Question 1: Quadrature [16 marks]\n",
    "\n",
    "In the course, we have seen Newton-Cotes interpolatory quadrature rules, which have the particular property that they use equally-spaced nodes. Other types of quadrature rules also exist.\n",
    "\n",
    "In this question, we will consider quadrature rules with $N$ nodes, where the nodes $x_k$ are defined as the Chebyshev nodes, i.e.\n",
    "\n",
    "$$\n",
    "x_k = \\cos\\left(\\frac{(2k-1)\\pi}{2N}\\right), \\quad\n",
    "k=1, \\dots, N.\n",
    "$$\n",
    "\n",
    "**1.1** Write a function `cheb_nodes()` which takes 1 input argument, a strictly positive integer `N`, and returns a NumPy vector of length $N$ containing the $N$ Chebyshev nodes, as defined above.\n",
    "\n",
    "**[2 marks]**"
   ]
  },
  {
   "cell_type": "code",
   "execution_count": null,
   "metadata": {},
   "outputs": [],
   "source": [
    "import numpy as np\n",
    "\n",
    "def cheb_nodes(N):  # function taking 1 input argument, N\n",
    "    \n",
    "    k = np.array(range(N)) # creates a numpy vector of length N\n",
    "    xk = np.cos(((2*k - 1) * np.pi) / (2 * N))  # imports this value into the given xk function\n",
    "\n",
    "    return xk"
   ]
  },
  {
   "cell_type": "markdown",
   "metadata": {},
   "source": [
    "**1.2** Write a function `cheb_weights()` which takes 1 input argument, a strictly positive integer `N`, and returns a NumPy vector of length $N$ containing the **weights** $w_k$ associated with the interpolatory quadrature rule whose nodes are the $x_k$ as defined above.\n",
    "\n",
    "For testing: the weights for $N = 3$ are $\\left\\{\\frac{4}{9}, \\frac{10}{9}, \\frac{4}{9}\\right\\}$.\n",
    "\n",
    "**[6 marks]**"
   ]
  },
  {
   "cell_type": "code",
   "execution_count": null,
   "metadata": {},
   "outputs": [],
   "source": []
  },
  {
   "cell_type": "markdown",
   "metadata": {},
   "source": [
    "**1.3** Consider the following integral, with a known closed form:\n",
    "\n",
    "$$\n",
    "I = \\int_{-\\pi/4}^{\\pi/4}  \\frac{1}{\\cos^3(x)} \\ dx =  \\sqrt{2} + 2 \\text{ arctanh}\\left(\\tan\\left(\\frac{\\pi}{8}\\right)\\right).\n",
    "$$\n",
    "\n",
    "Test your quadrature rule by using it to approximate $I$ and compare the computed result to the exact value of the integral.\n",
    "\n",
    "(For $N = 3$, you should obtain an error of approximately $0.0627$.)\n",
    "\n",
    "**[3 marks]**"
   ]
  },
  {
   "cell_type": "code",
   "execution_count": null,
   "metadata": {},
   "outputs": [],
   "source": []
  },
  {
   "cell_type": "markdown",
   "metadata": {},
   "source": [
    "**1.4** Investigate the accuracy of the quadrature rules you obtain using your functions `cheb_nodes()` and `cheb_weights()` for a range of different values of $p$.\n",
    "\n",
    "Summarise and explain your results in a discussion of no more than 250 words.\n",
    "\n",
    "**[5 marks]**"
   ]
  },
  {
   "cell_type": "code",
   "execution_count": null,
   "metadata": {},
   "outputs": [],
   "source": []
  },
  {
   "cell_type": "markdown",
   "metadata": {},
   "source": [
    "***📝 Discussion for question 1.4***"
   ]
  },
  {
   "cell_type": "markdown",
   "metadata": {},
   "source": [
    "---\n",
    "# Question 2: Numerical differentiation [10 marks]\n"
   ]
  },
  {
   "cell_type": "markdown",
   "metadata": {},
   "source": [
    "Consider a finite difference approximation \n",
    "\n",
    "$$\n",
    "F' \\left( x \\right) \\approx D \\left( x \\right) = \\frac{1}{\\Delta x} \\left[ -\\frac{1}{8} F \\left( x - 2\\Delta x \\right) -\\frac{3}{4} F \\left( x \\right) + F \\left( x + \\Delta x \\right) - \\frac{1}{8} F \\left( x + 2 \\Delta x \\right) \\right].\n",
    "$$\n",
    "\n",
    "By considering the derivative of the function $F \\left( x \\right) = \\sin x$ at $x = 1$, perform numerical experiments to investigate the accuracy of this approximation. Your code should generate appropriate output and/or figures to illustrate the results.\n",
    "\n",
    "Confirm your results analytically. (You can either use the Markdown cell below, or submit a PDF of your handwriting if you prefer.)\n",
    "\n",
    "**[10 marks]**"
   ]
  },
  {
   "cell_type": "code",
   "execution_count": 23,
   "metadata": {},
   "outputs": [
    {
     "data": {
      "image/png": "[encoded data removed]",
      "text/plain": [
       "<Figure size 864x504 with 1 Axes>"
      ]
     },
     "metadata": {
      "needs_background": "light"
     },
     "output_type": "display_data"
    },
    {
     "name": "stdout",
     "output_type": "stream",
     "text": [
      "The actual derivative of the function at x = 1 is 0.5403023058681398\n"
     ]
    }
   ],
   "source": [
    "import matplotlib.pyplot as plt\n",
    "%matplotlib inline\n",
    "\n",
    "\n",
    "def F(x):\n",
    "    return np.sin(x)\n",
    "\n",
    "def F_derivative(x):\n",
    "    return np.cos(x)\n",
    "\n",
    "def derivative(F, x, dx):\n",
    "\n",
    "    y = ((-1 / 8) * F(x - 2*dx) - (3 / 4) * F(x) + F(x + dx) - (1 / 8) * F(x + 2 * dx)) / dx\n",
    "\n",
    "    return y\n",
    "\n",
    "\n",
    "dx = np.linspace(0.0001, 0.5, 50)\n",
    "approx_derivative = derivative(F, 1, dx)\n",
    "\n",
    "actual = F_derivative(1)\n",
    "\n",
    "err = np.abs(actual - approx_derivative)\n",
    "\n",
    "fig, ax = plt.subplots(figsize = (12, 7))\n",
    "ax.scatter(dx, err)\n",
    "ax.set_xlabel('dx', fontsize = 14)\n",
    "ax.set_ylabel('Error', fontsize = 14)\n",
    "ax.set_title('Error in approximation against Delta x', fontsize = 14)\n",
    "ax.set_yscale('Log')\n",
    "\n",
    "\n",
    "plt.show()\n",
    "print(f'The actual derivative of the function at x = 1 is {actual}')\n",
    "\n"
   ]
  },
  {
   "cell_type": "markdown",
   "metadata": {},
   "source": [
    "***📝 Question 2***\n",
    "\n",
    "The above graph calculation implies that, as delta x approaches 0, or as it decreases in size, then the error value for the \n",
    "approximated function decreases in size; implying that the difference approximation is a realistic interpretation of the \n",
    "derivative of sin(x) at x = 1. We are able to get to within an error value of 10E-9 as dx is equal to 0.0001. AS dx increases\n",
    "in value, such as to 0.5, then the error bound can reach up to 0.1, which can give a roughly 20% error."
   ]
  },
  {
   "cell_type": "markdown",
   "metadata": {},
   "source": [
    "---\n",
    "# Question 3: Root finding [14 marks]\n",
    "\n",
    "Consider the function\n",
    "\n",
    "$$\n",
    "  F \\left( x \\right) = \\ln x - x + 4.\n",
    "$$\n",
    "\n",
    "**3.1** Plot the function over the interval $x \\in (0, 10]$.\n",
    "\n",
    "**[2 marks]**"
   ]
  },
  {
   "cell_type": "code",
   "execution_count": 21,
   "metadata": {},
   "outputs": [
    {
     "name": "stderr",
     "output_type": "stream",
     "text": [
      "<ipython-input-21-c6f4452d1262>:8: RuntimeWarning: divide by zero encountered in log\n",
      "  return np.log(x) - x + 4\n"
     ]
    },
    {
     "data": {
      "image/png": "[encoded data removed]",
      "text/plain": [
       "<Figure size 864x504 with 1 Axes>"
      ]
     },
     "metadata": {
      "needs_background": "light"
     },
     "output_type": "display_data"
    }
   ],
   "source": [
    "%matplotlib inline\n",
    "import matplotlib.pyplot as plt\n",
    "import math\n",
    "import numpy as np\n",
    "\n",
    "def F(x):\n",
    "    \n",
    "    return np.log(x) - x + 4\n",
    "\n",
    "x = np.linspace(0, 10, 100)\n",
    "\n",
    "fig, ax = plt.subplots(figsize = (12, 7))\n",
    "ax.plot(x, F(x))\n",
    "ax.set_xlim(0, 10)\n",
    "ax.set_xlabel(r'$x$', fontsize = 14)\n",
    "ax.set_ylabel(r'$Y$', fontsize = 14)\n",
    "ax.set_title(r'Function against x', fontsize = 16)\n",
    "\n",
    "plt.show()"
   ]
  },
  {
   "cell_type": "markdown",
   "metadata": {},
   "source": [
    "**3.2** Find the root of $F$ in the interval $[4, 8]$, using 2 different methods: a bracketing method of your choice, and Newton's method.\n",
    "\n",
    "**[4 marks]**"
   ]
  },
  {
   "cell_type": "code",
   "execution_count": null,
   "metadata": {},
   "outputs": [],
   "source": []
  },
  {
   "cell_type": "markdown",
   "metadata": {},
   "source": [
    "**3.3** Consider a third method to find this root, defined as the fixed-point iteration\n",
    "\n",
    "$$\n",
    "  x_n = G \\left( x_{n - 1} \\right) \\textrm{ for } n = 1, 2, \\ldots,\n",
    "$$\n",
    "\n",
    "with iteration function\n",
    "\n",
    "$$\n",
    "  G \\left( x \\right) = \\alpha \\left( \\ln x - x + 4 \\right) + x,\n",
    "$$\n",
    "\n",
    "where $\\alpha$ is a real parameter to be specified.\n",
    "\n",
    "Using an initial guess $x_0 = 5$, use this fixed-point iteration to seek the root, considering different values of $\\alpha \\in \\left[ 1, 5 \\right]$.\n",
    "\n",
    "Discuss and explain the convergence properties of this fixed-point iteration. Your code should generate appropriate output and/or figures to illustrate the results and to support your discussion.\n",
    "\n",
    "You can use the Markdown cell below for discussion, or submit a PDF of your handwriting if you prefer.\n",
    "\n",
    "**[8 marks]**"
   ]
  },
  {
   "cell_type": "code",
   "execution_count": null,
   "metadata": {},
   "outputs": [],
   "source": []
  },
  {
   "cell_type": "markdown",
   "metadata": {},
   "source": [
    "***📝 Discussion for question 3.3***"
   ]
  }
 ],
 "metadata": {
  "kernelspec": {
   "display_name": "Python 3",
   "language": "python",
   "name": "python3"
  },
  "language_info": {
   "codemirror_mode": {
    "name": "ipython",
    "version": 3
   },
   "file_extension": ".py",
   "mimetype": "text/x-python",
   "name": "python",
   "nbconvert_exporter": "python",
   "pygments_lexer": "ipython3",
   "version": "3.8.8"
  }
 },
 "nbformat": 4,
 "nbformat_minor": 4
}
